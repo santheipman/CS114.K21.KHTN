{
  "nbformat": 4,
  "nbformat_minor": 0,
  "metadata": {
    "colab": {
      "name": "test.ipynb",
      "provenance": [],
      "include_colab_link": true
    },
    "kernelspec": {
      "name": "python3",
      "display_name": "Python 3"
    }
  },
  "cells": [
    {
      "cell_type": "markdown",
      "metadata": {
        "id": "view-in-github",
        "colab_type": "text"
      },
      "source": [
        "<a href=\"https://colab.research.google.com/github/santheipman/CS114.K21.KHTN/blob/master/Capstone_Project/test.ipynb\" target=\"_parent\"><img src=\"https://colab.research.google.com/assets/colab-badge.svg\" alt=\"Open In Colab\"/></a>"
      ]
    },
    {
      "cell_type": "code",
      "metadata": {
        "id": "GEmeVL66HO8y",
        "colab_type": "code",
        "colab": {
          "base_uri": "https://localhost:8080/",
          "height": 1000
        },
        "outputId": "0a06d94f-b277-493c-c32d-36d530d1d3db"
      },
      "source": [
        "!pip install underthesea\n",
        "!pip install selenium\n",
        "!pip install pyvirtualdisplay\n",
        "!apt-get install -y xvfb\n",
        "!apt-get update # to update ubuntu to correctly run apt install\n",
        "!apt install chromium-chromedriver\n",
        "!cp /usr/lib/chromium-browser/chromedriver /usr/bin"
      ],
      "execution_count": null,
      "outputs": [
        {
          "output_type": "stream",
          "text": [
            "Collecting underthesea\n",
            "\u001b[?25l  Downloading https://files.pythonhosted.org/packages/da/e8/832becde9ee2b14f81620e11e6417a882184756bdadc4399f096a9b6c94c/underthesea-1.1.17-py3-none-any.whl (7.1MB)\n",
            "\u001b[K     |████████████████████████████████| 7.1MB 5.7MB/s \n",
            "\u001b[?25hCollecting nltk<3.5,>=3.4\n",
            "\u001b[?25l  Downloading https://files.pythonhosted.org/packages/f6/1d/d925cfb4f324ede997f6d47bea4d9babba51b49e87a767c170b77005889d/nltk-3.4.5.zip (1.5MB)\n",
            "\u001b[K     |████████████████████████████████| 1.5MB 57.8MB/s \n",
            "\u001b[?25hCollecting languageflow==1.1.13a1\n",
            "\u001b[?25l  Downloading https://files.pythonhosted.org/packages/0c/be/62db3c61f872bbdd7d18671442601e6f59c4fb8004d73a03162f5b2bcc02/languageflow-1.1.13a1-py2.py3-none-any.whl (457kB)\n",
            "\u001b[K     |████████████████████████████████| 460kB 50.2MB/s \n",
            "\u001b[?25hRequirement already satisfied: Click>=6.0 in /usr/local/lib/python3.6/dist-packages (from underthesea) (7.1.2)\n",
            "Collecting python-crfsuite==0.9.6\n",
            "\u001b[?25l  Downloading https://files.pythonhosted.org/packages/2f/86/cfcd71edca9d25d3d331209a20f6314b6f3f134c29478f90559cee9ce091/python_crfsuite-0.9.6-cp36-cp36m-manylinux1_x86_64.whl (754kB)\n",
            "\u001b[K     |████████████████████████████████| 757kB 49.9MB/s \n",
            "\u001b[?25hRequirement already satisfied: six in /usr/local/lib/python3.6/dist-packages (from nltk<3.5,>=3.4->underthesea) (1.15.0)\n",
            "Collecting clint\n",
            "  Downloading https://files.pythonhosted.org/packages/3d/b4/41ecb1516f1ba728f39ee7062b9dac1352d39823f513bb6f9e8aeb86e26d/clint-0.5.1.tar.gz\n",
            "Requirement already satisfied: tqdm in /usr/local/lib/python3.6/dist-packages (from languageflow==1.1.13a1->underthesea) (4.41.1)\n",
            "Requirement already satisfied: requests in /usr/local/lib/python3.6/dist-packages (from languageflow==1.1.13a1->underthesea) (2.23.0)\n",
            "Collecting joblib==0.13.2\n",
            "\u001b[?25l  Downloading https://files.pythonhosted.org/packages/cd/c1/50a758e8247561e58cb87305b1e90b171b8c767b15b12a1734001f41d356/joblib-0.13.2-py2.py3-none-any.whl (278kB)\n",
            "\u001b[K     |████████████████████████████████| 286kB 54.4MB/s \n",
            "\u001b[?25hCollecting scikit-learn==0.20.3\n",
            "\u001b[?25l  Downloading https://files.pythonhosted.org/packages/5e/82/c0de5839d613b82bddd088599ac0bbfbbbcbd8ca470680658352d2c435bd/scikit_learn-0.20.3-cp36-cp36m-manylinux1_x86_64.whl (5.4MB)\n",
            "\u001b[K     |████████████████████████████████| 5.4MB 32.6MB/s \n",
            "\u001b[?25hRequirement already satisfied: tabulate in /usr/local/lib/python3.6/dist-packages (from languageflow==1.1.13a1->underthesea) (0.8.7)\n",
            "Collecting args\n",
            "  Downloading https://files.pythonhosted.org/packages/e5/1c/b701b3f4bd8d3667df8342f311b3efaeab86078a840fb826bd204118cc6b/args-0.1.0.tar.gz\n",
            "Requirement already satisfied: chardet<4,>=3.0.2 in /usr/local/lib/python3.6/dist-packages (from requests->languageflow==1.1.13a1->underthesea) (3.0.4)\n",
            "Requirement already satisfied: certifi>=2017.4.17 in /usr/local/lib/python3.6/dist-packages (from requests->languageflow==1.1.13a1->underthesea) (2020.6.20)\n",
            "Requirement already satisfied: urllib3!=1.25.0,!=1.25.1,<1.26,>=1.21.1 in /usr/local/lib/python3.6/dist-packages (from requests->languageflow==1.1.13a1->underthesea) (1.24.3)\n",
            "Requirement already satisfied: idna<3,>=2.5 in /usr/local/lib/python3.6/dist-packages (from requests->languageflow==1.1.13a1->underthesea) (2.10)\n",
            "Requirement already satisfied: numpy>=1.8.2 in /usr/local/lib/python3.6/dist-packages (from scikit-learn==0.20.3->languageflow==1.1.13a1->underthesea) (1.18.5)\n",
            "Requirement already satisfied: scipy>=0.13.3 in /usr/local/lib/python3.6/dist-packages (from scikit-learn==0.20.3->languageflow==1.1.13a1->underthesea) (1.4.1)\n",
            "Building wheels for collected packages: nltk, clint, args\n",
            "  Building wheel for nltk (setup.py) ... \u001b[?25l\u001b[?25hdone\n",
            "  Created wheel for nltk: filename=nltk-3.4.5-cp36-none-any.whl size=1449905 sha256=57814c66c1faa7605edf1d335e765e0d02a5822018559e5488cdd22a27907f1c\n",
            "  Stored in directory: /root/.cache/pip/wheels/96/86/f6/68ab24c23f207c0077381a5e3904b2815136b879538a24b483\n",
            "  Building wheel for clint (setup.py) ... \u001b[?25l\u001b[?25hdone\n",
            "  Created wheel for clint: filename=clint-0.5.1-cp36-none-any.whl size=34449 sha256=af9e34126d0030c7cdec99e72b7038a340895f2bcd21dd289fc77a929353e5d0\n",
            "  Stored in directory: /root/.cache/pip/wheels/4f/e9/45/223565e5b1a4b09e12c6de6f8ba7c2c0e9127dec17cf830f83\n",
            "  Building wheel for args (setup.py) ... \u001b[?25l\u001b[?25hdone\n",
            "  Created wheel for args: filename=args-0.1.0-cp36-none-any.whl size=3320 sha256=8350645ea76857568b0417015e9d9fe88c3c46672752f9d4735d01f83b0decc2\n",
            "  Stored in directory: /root/.cache/pip/wheels/58/54/ea/d995d18af68c057eb76b87b02c92bc66ac34d360ef141780f4\n",
            "Successfully built nltk clint args\n",
            "Installing collected packages: nltk, args, clint, joblib, scikit-learn, languageflow, python-crfsuite, underthesea\n",
            "  Found existing installation: nltk 3.2.5\n",
            "    Uninstalling nltk-3.2.5:\n",
            "      Successfully uninstalled nltk-3.2.5\n",
            "  Found existing installation: joblib 0.16.0\n",
            "    Uninstalling joblib-0.16.0:\n",
            "      Successfully uninstalled joblib-0.16.0\n",
            "  Found existing installation: scikit-learn 0.22.2.post1\n",
            "    Uninstalling scikit-learn-0.22.2.post1:\n",
            "      Successfully uninstalled scikit-learn-0.22.2.post1\n",
            "Successfully installed args-0.1.0 clint-0.5.1 joblib-0.13.2 languageflow-1.1.13a1 nltk-3.4.5 python-crfsuite-0.9.6 scikit-learn-0.20.3 underthesea-1.1.17\n",
            "Collecting selenium\n",
            "\u001b[?25l  Downloading https://files.pythonhosted.org/packages/80/d6/4294f0b4bce4de0abf13e17190289f9d0613b0a44e5dd6a7f5ca98459853/selenium-3.141.0-py2.py3-none-any.whl (904kB)\n",
            "\u001b[K     |████████████████████████████████| 911kB 8.4MB/s \n",
            "\u001b[?25hRequirement already satisfied: urllib3 in /usr/local/lib/python3.6/dist-packages (from selenium) (1.24.3)\n",
            "Installing collected packages: selenium\n",
            "Successfully installed selenium-3.141.0\n",
            "Collecting pyvirtualdisplay\n",
            "  Downloading https://files.pythonhosted.org/packages/d0/8a/643043cc70791367bee2d19eb20e00ed1a246ac48e5dbe57bbbcc8be40a9/PyVirtualDisplay-1.3.2-py2.py3-none-any.whl\n",
            "Collecting EasyProcess\n",
            "  Downloading https://files.pythonhosted.org/packages/48/3c/75573613641c90c6d094059ac28adb748560d99bd27ee6f80cce398f404e/EasyProcess-0.3-py2.py3-none-any.whl\n",
            "Installing collected packages: EasyProcess, pyvirtualdisplay\n",
            "Successfully installed EasyProcess-0.3 pyvirtualdisplay-1.3.2\n",
            "Reading package lists... Done\n",
            "Building dependency tree       \n",
            "Reading state information... Done\n",
            "The following package was automatically installed and is no longer required:\n",
            "  libnvidia-common-440\n",
            "Use 'apt autoremove' to remove it.\n",
            "The following NEW packages will be installed:\n",
            "  xvfb\n",
            "0 upgraded, 1 newly installed, 0 to remove and 35 not upgraded.\n",
            "Need to get 784 kB of archives.\n",
            "After this operation, 2,266 kB of additional disk space will be used.\n",
            "Get:1 http://archive.ubuntu.com/ubuntu bionic-updates/universe amd64 xvfb amd64 2:1.19.6-1ubuntu4.4 [784 kB]\n",
            "Fetched 784 kB in 0s (8,016 kB/s)\n",
            "Selecting previously unselected package xvfb.\n",
            "(Reading database ... 144487 files and directories currently installed.)\n",
            "Preparing to unpack .../xvfb_2%3a1.19.6-1ubuntu4.4_amd64.deb ...\n",
            "Unpacking xvfb (2:1.19.6-1ubuntu4.4) ...\n",
            "Setting up xvfb (2:1.19.6-1ubuntu4.4) ...\n",
            "Processing triggers for man-db (2.8.3-2ubuntu0.1) ...\n",
            "Hit:1 http://archive.ubuntu.com/ubuntu bionic InRelease\n",
            "Get:2 http://archive.ubuntu.com/ubuntu bionic-updates InRelease [88.7 kB]\n",
            "Hit:3 http://ppa.launchpad.net/graphics-drivers/ppa/ubuntu bionic InRelease\n",
            "Get:4 http://ppa.launchpad.net/marutter/c2d4u3.5/ubuntu bionic InRelease [15.4 kB]\n",
            "Get:5 https://cloud.r-project.org/bin/linux/ubuntu bionic-cran35/ InRelease [3,626 B]\n",
            "Get:6 http://archive.ubuntu.com/ubuntu bionic-backports InRelease [74.6 kB]\n",
            "Get:7 http://security.ubuntu.com/ubuntu bionic-security InRelease [88.7 kB]\n",
            "Get:8 http://archive.ubuntu.com/ubuntu bionic-updates/universe amd64 Packages [1,413 kB]\n",
            "Ign:9 https://developer.download.nvidia.com/compute/cuda/repos/ubuntu1804/x86_64  InRelease\n",
            "Get:10 http://archive.ubuntu.com/ubuntu bionic-updates/restricted amd64 Packages [116 kB]\n",
            "Get:11 http://archive.ubuntu.com/ubuntu bionic-updates/multiverse amd64 Packages [27.2 kB]\n",
            "Get:12 http://archive.ubuntu.com/ubuntu bionic-updates/main amd64 Packages [1,334 kB]\n",
            "Ign:13 https://developer.download.nvidia.com/compute/machine-learning/repos/ubuntu1804/x86_64  InRelease\n",
            "Hit:14 https://developer.download.nvidia.com/compute/cuda/repos/ubuntu1804/x86_64  Release\n",
            "Hit:15 https://developer.download.nvidia.com/compute/machine-learning/repos/ubuntu1804/x86_64  Release\n",
            "Get:16 http://ppa.launchpad.net/marutter/c2d4u3.5/ubuntu bionic/main Sources [1,851 kB]\n",
            "Get:17 http://ppa.launchpad.net/marutter/c2d4u3.5/ubuntu bionic/main amd64 Packages [893 kB]\n",
            "Fetched 5,906 kB in 2s (3,339 kB/s)\n",
            "Reading package lists... Done\n",
            "Reading package lists... Done\n",
            "Building dependency tree       \n",
            "Reading state information... Done\n",
            "The following package was automatically installed and is no longer required:\n",
            "  libnvidia-common-440\n",
            "Use 'apt autoremove' to remove it.\n",
            "The following additional packages will be installed:\n",
            "  chromium-browser chromium-browser-l10n chromium-codecs-ffmpeg-extra\n",
            "Suggested packages:\n",
            "  webaccounts-chromium-extension unity-chromium-extension adobe-flashplugin\n",
            "The following NEW packages will be installed:\n",
            "  chromium-browser chromium-browser-l10n chromium-chromedriver\n",
            "  chromium-codecs-ffmpeg-extra\n",
            "0 upgraded, 4 newly installed, 0 to remove and 37 not upgraded.\n",
            "Need to get 75.5 MB of archives.\n",
            "After this operation, 256 MB of additional disk space will be used.\n",
            "Get:1 http://archive.ubuntu.com/ubuntu bionic-updates/universe amd64 chromium-codecs-ffmpeg-extra amd64 83.0.4103.61-0ubuntu0.18.04.1 [1,119 kB]\n",
            "Get:2 http://archive.ubuntu.com/ubuntu bionic-updates/universe amd64 chromium-browser amd64 83.0.4103.61-0ubuntu0.18.04.1 [66.7 MB]\n",
            "Get:3 http://archive.ubuntu.com/ubuntu bionic-updates/universe amd64 chromium-browser-l10n all 83.0.4103.61-0ubuntu0.18.04.1 [3,378 kB]\n",
            "Get:4 http://archive.ubuntu.com/ubuntu bionic-updates/universe amd64 chromium-chromedriver amd64 83.0.4103.61-0ubuntu0.18.04.1 [4,294 kB]\n",
            "Fetched 75.5 MB in 1s (69.2 MB/s)\n",
            "Selecting previously unselected package chromium-codecs-ffmpeg-extra.\n",
            "(Reading database ... 144494 files and directories currently installed.)\n",
            "Preparing to unpack .../chromium-codecs-ffmpeg-extra_83.0.4103.61-0ubuntu0.18.04.1_amd64.deb ...\n",
            "Unpacking chromium-codecs-ffmpeg-extra (83.0.4103.61-0ubuntu0.18.04.1) ...\n",
            "Selecting previously unselected package chromium-browser.\n",
            "Preparing to unpack .../chromium-browser_83.0.4103.61-0ubuntu0.18.04.1_amd64.deb ...\n",
            "Unpacking chromium-browser (83.0.4103.61-0ubuntu0.18.04.1) ...\n",
            "Selecting previously unselected package chromium-browser-l10n.\n",
            "Preparing to unpack .../chromium-browser-l10n_83.0.4103.61-0ubuntu0.18.04.1_all.deb ...\n",
            "Unpacking chromium-browser-l10n (83.0.4103.61-0ubuntu0.18.04.1) ...\n",
            "Selecting previously unselected package chromium-chromedriver.\n",
            "Preparing to unpack .../chromium-chromedriver_83.0.4103.61-0ubuntu0.18.04.1_amd64.deb ...\n",
            "Unpacking chromium-chromedriver (83.0.4103.61-0ubuntu0.18.04.1) ...\n",
            "Setting up chromium-codecs-ffmpeg-extra (83.0.4103.61-0ubuntu0.18.04.1) ...\n",
            "Setting up chromium-browser (83.0.4103.61-0ubuntu0.18.04.1) ...\n",
            "update-alternatives: using /usr/bin/chromium-browser to provide /usr/bin/x-www-browser (x-www-browser) in auto mode\n",
            "update-alternatives: using /usr/bin/chromium-browser to provide /usr/bin/gnome-www-browser (gnome-www-browser) in auto mode\n",
            "Setting up chromium-chromedriver (83.0.4103.61-0ubuntu0.18.04.1) ...\n",
            "Setting up chromium-browser-l10n (83.0.4103.61-0ubuntu0.18.04.1) ...\n",
            "Processing triggers for hicolor-icon-theme (0.17-2) ...\n",
            "Processing triggers for mime-support (3.60ubuntu1) ...\n",
            "Processing triggers for man-db (2.8.3-2ubuntu0.1) ...\n",
            "cp: '/usr/lib/chromium-browser/chromedriver' and '/usr/bin/chromedriver' are the same file\n"
          ],
          "name": "stdout"
        }
      ]
    },
    {
      "cell_type": "code",
      "metadata": {
        "id": "im8xh87kG0w3",
        "colab_type": "code",
        "colab": {
          "base_uri": "https://localhost:8080/",
          "height": 139
        },
        "outputId": "e3a67924-7879-47a7-bbee-f379a67ad377"
      },
      "source": [
        "!git clone \"https://github.com/santheipman/CS114.K21.KHTN.git\""
      ],
      "execution_count": null,
      "outputs": [
        {
          "output_type": "stream",
          "text": [
            "Cloning into 'CS114.K21.KHTN'...\n",
            "remote: Enumerating objects: 112, done.\u001b[K\n",
            "remote: Counting objects: 100% (112/112), done.\u001b[K\n",
            "remote: Compressing objects: 100% (108/108), done.\u001b[K\n",
            "remote: Total 112 (delta 54), reused 0 (delta 0), pack-reused 0\u001b[K\n",
            "Receiving objects: 100% (112/112), 964.57 KiB | 2.49 MiB/s, done.\n",
            "Resolving deltas: 100% (54/54), done.\n"
          ],
          "name": "stdout"
        }
      ]
    },
    {
      "cell_type": "code",
      "metadata": {
        "id": "NAOpq1XjHYCq",
        "colab_type": "code",
        "colab": {
          "base_uri": "https://localhost:8080/",
          "height": 34
        },
        "outputId": "afa522f5-9fab-46e3-9bb7-33b3aac24b66"
      },
      "source": [
        "%cd 'CS114.K21.KHTN/Capstone_Project/'"
      ],
      "execution_count": null,
      "outputs": [
        {
          "output_type": "stream",
          "text": [
            "/content/CS114.K21.KHTN/Capstone_Project\n"
          ],
          "name": "stdout"
        }
      ]
    },
    {
      "cell_type": "code",
      "metadata": {
        "id": "qnPlzYqrHrFE",
        "colab_type": "code",
        "colab": {
          "base_uri": "https://localhost:8080/",
          "height": 1000
        },
        "outputId": "1390ecee-b4de-4140-d5a8-829ae8a448eb"
      },
      "source": [
        "!python test.py"
      ],
      "execution_count": null,
      "outputs": [
        {
          "output_type": "stream",
          "text": [
            "Chọn khóa (vd: K2019): K2018\n",
            "Danh mục các chủ đề:\n",
            "  1. Thông báo các thông báo của trường, của khoa, của các câu lạc bộ, của lớp (thông báo mở lớp); thông báo về học bổng.\n",
            "  2. Tìm đồ thất lạc: viết về việc thất lạc đồ hoặc tìm thấy đồ thất lạc.\n",
            "  3. Hỏi đáp, nhờ giúp đỡ (chủ yếu liên quan đến vấn đề cá nhân): hỏi về trường, nhờ điền form khảo sát, nhờ điền form đăng kí mở lớp, bán lại đồ dùng, thiếu tín chỉ,...\n",
            "  4. Khác: các hoạt động của cơ quan, tổ chức bên ngoài như tuyển dụng, quảng cáo khóa học, chương trình bốc thăm, ngày hội công nghệ, tham quan doanh nghiệp,...; các bài không rõ chủ đề hoặc nội dung không đáng quan tâm.\n",
            "\n",
            "Chọn một trong các chủ đề trên: 3\n",
            "\n",
            "Kết quả tìm kiếm:\n",
            "1\n",
            "Thursday, July 30, 2020 at 1:05 AM\n",
            "Ai có đáp án đề thi Nhập môn công nghệ phần mềm các năm trước không cho mình/em xin với ạ. Làm đề mà không có đáp án không biết đúng hay sai để dò luôn ý mn ơi :(((\n",
            "Link to post: https://www.facebook.com/groups/UIT.K2018/permalink/1295383494126848/\n",
            "\n",
            "2\n",
            "Wednesday, July 29, 2020 at 7:05 AM\n",
            "Mọi người ơi mọi người ơi.\n",
            "Ai có tài liệu Pháp luật Đại cương cho mình xin với, mình ôn chiều giờ mà thấy vẫn hơi meo, hơi sợ, mong tìm được tài liệu ôn ổn hơn 1 xíu :<\n",
            "Link to post: https://www.facebook.com/groups/UIT.K2018/permalink/1294783570853507/\n",
            "\n",
            "3\n",
            "Tuesday, July 28, 2020 at 6:28 AM\n",
            "Có bạn nào có file ôn tập PLDC cho mình xin với. Mình cảm ơn\n",
            "Link to post: https://www.facebook.com/groups/UIT.K2018/permalink/1293918124273385/\n",
            "\n",
            "4\n",
            "Wednesday, May 29, 2019 at 5:20 AM\n",
            "Một số câu hỏi PLĐC mới ôn sáng nay\n",
            "Em/mình hy vọng giúp ích các tâm hồn bé nhỏ :v\n",
            "Link to post: https://www.facebook.com/groups/UIT.K2018/permalink/948445485487319/\n",
            "\n",
            "5\n",
            "Friday, July 24, 2020 at 7:20 AM\n",
            "Mọi người ơi, ai có tài liệu và đề thi các năm môn TTHCM không ạ..cho mình xin với được không? Mình cảm ơn 🙏\n",
            "Link to post: https://www.facebook.com/groups/UIT.K2018/permalink/1290818664583331/\n",
            "\n",
            "6\n",
            "Sunday, July 26, 2020 at 7:58 PM\n",
            "Có bạn nào học lớp SS010.K23 của cô Thư ghi kịp câu hỏi ôn tập buổi cuối của cô thì cho mình xin với\n",
            "Link to post: https://www.facebook.com/groups/UIT.K2018/permalink/1292818171050047/\n",
            "\n",
            "7\n",
            "Monday, July 27, 2020 at 9:23 AM\n",
            "Xin chào các Anh/ Chị/ Bạn ạ!\n",
            "Lời nói đầu tiên, nhóm em/mình xin được gửi lời xin lỗi nếu post này đã làm phiền mọi người.\n",
            "Hiện nhóm em/mình đang nghiên cứu Olympic thống kê, kinh tế lượng và ứng dụng đề tài: “CÁC YẾU TỐ ẢNH HƯỞNG ĐẾN QUYẾT ĐỊNH TIẾP TỤC THUÊ TRỌ CỦA SINH VIÊN TRÊN ĐỊA BÀN QUẬN THỦ ĐỨC”.\n",
            "Vì lý do gấp rút nhóm em/mình mong mọi người có thể dành tầm 3 phút để hoàn thành bảng khảo sát bên dưới. Nhóm có phần quà nho nhỏ tặng cho các bạn sau khi hoàn thành khảo sát:\n",
            "1...\n",
            "See More\n",
            "Link to post: https://www.facebook.com/groups/UIT.K2018/permalink/1293239667674564/\n",
            "\n",
            "8\n",
            "Monday, July 27, 2020 at 3:56 AM\n",
            "Cho mình hỏi Lịch sử ĐCSVN với Tư Tưởng HCM có cho thi đề mở ko các bạn? Thks mọi người nhiều nha\n",
            "Link to post: https://www.facebook.com/groups/UIT.K2018/permalink/1293041777694353/\n",
            "\n",
            "9\n",
            "Saturday, July 25, 2020 at 11:44 PM\n",
            "Mấy bạn học Kinh tế chính trị cho mình xin câu hỏi ôn tập với\n",
            "Cám ơn các bạn!!!\n",
            "Link to post: https://www.facebook.com/groups/UIT.K2018/permalink/1292134424451755/\n",
            "\n",
            "10\n",
            "Sunday, July 26, 2020 at 10:06 PM\n",
            "Bạn nào có file giải bài tập Homework 1 và 2 của cô Lê Thị Nhàn( trường KHTN) dạy môn Hệ Quản Trị cho mình xin với.\n",
            "Link to post: https://www.facebook.com/groups/UIT.K2018/permalink/1292878337710697/\n",
            "\n",
            "11\n",
            "Sunday, July 26, 2020 at 6:34 AM\n",
            "Bạn học chung lớp Hệ điều hành thầy Lầu Phi Tường, có mượn máy tính của mình hôm thứ bảy thì nhắn trả lại cho mình trong ngày mai nhé.\n",
            "Link to post: https://www.facebook.com/groups/UIT.K2018/permalink/1292347954430402/\n",
            "\n",
            "12\n",
            "Wednesday, July 22, 2020 at 12:55 AM\n",
            "Mọi người ai có đề HQTCSDL các năm trước cho mình xin với. Mình cảm ơn nhiều.🙆‍♀️\n",
            "Link to post: https://www.facebook.com/groups/UIT.K2018/permalink/1289023824762815/\n",
            "\n",
            "13\n",
            "Friday, July 24, 2020 at 6:53 AM\n",
            "Mọi người ơi, có ai có đề thi cuối kì QTM&HT không cho mình xin với ạ. Mình cảm ơn ạ <3\n",
            "Link to post: https://www.facebook.com/groups/UIT.K2018/permalink/1290800377918493/\n",
            "\n",
            "14\n",
            "Friday, July 24, 2020 at 7:02 AM\n",
            "Dạ cho e hỏi ngu cái ạ,cho e hỏi các ngành đào tạo của các khoa trong trường vs ạ. E chỉ biết các ngành khoa e đang học th ạ :3\n",
            "Link to post: https://www.facebook.com/groups/UIT.K2018/permalink/1290807324584465/\n",
            "\n",
            "15\n",
            "Wednesday, July 22, 2020 at 9:26 PM\n",
            "|| GÓC CẦU CỨU||\n",
            "Anh chị hay bạn nào học môn Thương mại điện tử rồi cho em xin form đề thi hoặc đề ôn tập được không ạ.\n",
            "Em nghe thầy lớp khác bảo thi mô hình 5 lớp, 7 lớp với hình thức tra cứu laptop. Thầy lớp em lại không bảo gì và trong quá trình học không học gì liên quan đến cái đó nên hoang mang quá ạ 😥😥😥.\n",
            "Link to post: https://www.facebook.com/groups/UIT.K2018/permalink/1289722388026292/\n",
            "\n",
            "16\n",
            "Sunday, July 19, 2020 at 8:29 AM\n",
            "Hi các bạn.. Sắp thi Lập trình java rồi.. Bạn nào có bài giải đề mẫu các năm ko cho mình xin tham khảo với ạ... Cảm ơn nhiều ạ\n",
            "Link to post: https://www.facebook.com/groups/UIT.K2018/permalink/1286877284977469/\n",
            "\n"
          ],
          "name": "stdout"
        }
      ]
    },
    {
      "cell_type": "code",
      "metadata": {
        "id": "-lL5fam8HwE5",
        "colab_type": "code",
        "colab": {}
      },
      "source": [
        ""
      ],
      "execution_count": null,
      "outputs": []
    }
  ]
}