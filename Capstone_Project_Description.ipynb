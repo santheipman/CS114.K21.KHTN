{
  "nbformat": 4,
  "nbformat_minor": 0,
  "metadata": {
    "colab": {
      "name": "Capstone_Project_Description.ipynb",
      "provenance": [],
      "authorship_tag": "ABX9TyPi9oZu2UHkf/I9e0L+Xj3E",
      "include_colab_link": true
    },
    "kernelspec": {
      "name": "python3",
      "display_name": "Python 3"
    }
  },
  "cells": [
    {
      "cell_type": "markdown",
      "metadata": {
        "id": "view-in-github",
        "colab_type": "text"
      },
      "source": [
        "<a href=\"https://colab.research.google.com/github/santheipman/CS114.K21.KHTN/blob/master/Capstone_Project_Description.ipynb\" target=\"_parent\"><img src=\"https://colab.research.google.com/assets/colab-badge.svg\" alt=\"Open In Colab\"/></a>"
      ]
    },
    {
      "cell_type": "markdown",
      "metadata": {
        "id": "0_52bByH_DK5",
        "colab_type": "text"
      },
      "source": [
        "# **Đồ án: Phân loại bài đăng trong group UIT trên Facebook.**\n",
        "\n",
        "#### **I. Bài toán**  \n",
        "\n",
        "* Hiện nay sinh viên UIT có hai nơi chính để trao đổi, thảo luận, giải đáp thắc mắc: một  là forum UIT và hai là group UIT trên Facebook (group mang tên UIT K13, UIT K14,... tùy theo khóa). Trong đó đa phần sinh viên thường sử dụng group trên Facebook hơn vì sự tiện lợi. Tuy nhiên, trong khi các bài đăng tại forum UIT được phân theo các mục (ví dụ như mục góc học tập, mục hỗ trợ đời sống, mục khu vực điều hành,...) thì các bài đăng tại group trên Facebook lại không được phân loại theo chủ đề hay theo các mục nào.  \n",
        "\n",
        "* Vì vậy, em quyết định áp dụng machine learning để xây dựng ứng dụng phân loại bài đăng trong group UIT trên Facebook theo chủ đề. Theo em tìm hiểu thì các bài viết chủ yếu thuộc về 3 chủ đề gồm: thông báo, hỏi đáp và tìm đồ thất lạc. Tóm lại bài toán có input và output như sau:\n",
        "\n",
        "    * Input: bài viết đăng trong group UIT trên Facebook (UIT K11, UIT K12, UIT K13,...).\n",
        "    * Output: bài viết đó thuộc chủ đề thông báo, hỏi đáp hay tìm đồ thất lạc.\n",
        "    \n",
        "#### **II. Dữ liệu**\n",
        "\n",
        "* Nội dung các bài đăng được crawl từ tất cả các bài đăng trong group UIT K11, UIT K12, UIT K13 và UIT K14. \n",
        "* Công cụ để crawl data là Facebook Graph API.\n",
        "* Ước tính dataset thu được sẽ gồm 10000 bài đăng. \n",
        "* Tiền xử lý dữ liệu:\n",
        "    * Loại bỏ kí tự đặc biệt, dấu câu, số\n",
        "    * Tách từ\n",
        "    * Chuẩn hóa về chữ thường\n",
        "    * Chuẩn hóa lại một số từ viết tắt thông dụng\n",
        "    * ...\n",
        "* Phân chia dataset: 70% train + 15% dev + 15% test\n",
        "\n",
        "#### **III. Trích chọn đặc trưng (Feature engineering)**\n",
        "\n",
        "Xem xét chọn lựa một trong các phương pháp như:\n",
        "* Count Vectors as features\n",
        "* TF-IDF Vectors as features\n",
        "* Word Embeddings as features\n",
        "* ...\n",
        "\n",
        "#### **IV. Thuật toán máy học**\n",
        "\n",
        "Xem xét chọn lựa một trong các thuật toán như:\n",
        "* Naive Bayes Classifier\n",
        "* Support Vector Machine\n",
        "* Boosting Models\n",
        "* Deep Neural Networks\n",
        "* ...\n",
        "\n",
        "##### ***Bonus (phần dự định làm thêm nếu còn thời gian):***  \n",
        "*1. So sánh hiệu quả giữa các phương pháp trích chọn đặc trưng (feature engineering, các thuật toán máy học.*  \n",
        "*2. Xây dựng API cho ứng dụng.*"
      ]
    }
  ]
}