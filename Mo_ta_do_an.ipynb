{
  "nbformat": 4,
  "nbformat_minor": 0,
  "metadata": {
    "kernelspec": {
      "display_name": "Python 3",
      "language": "python",
      "name": "python3"
    },
    "language_info": {
      "codemirror_mode": {
        "name": "ipython",
        "version": 3
      },
      "file_extension": ".py",
      "mimetype": "text/x-python",
      "name": "python",
      "nbconvert_exporter": "python",
      "pygments_lexer": "ipython3",
      "version": "3.7.7"
    },
    "colab": {
      "name": "Untitled.ipynb",
      "provenance": [],
      "collapsed_sections": [],
      "include_colab_link": true
    }
  },
  "cells": [
    {
      "cell_type": "markdown",
      "metadata": {
        "id": "view-in-github",
        "colab_type": "text"
      },
      "source": [
        "<a href=\"https://colab.research.google.com/github/santheipman/CS114.K21.KHTN/blob/master/Mo_ta_do_an.ipynb\" target=\"_parent\"><img src=\"https://colab.research.google.com/assets/colab-badge.svg\" alt=\"Open In Colab\"/></a>"
      ]
    },
    {
      "cell_type": "markdown",
      "metadata": {
        "id": "IxJnUWZS08tl",
        "colab_type": "text"
      },
      "source": [
        "# Đồ án: Phân loại giới tính người dựa trên ảnh chụp "
      ]
    },
    {
      "cell_type": "markdown",
      "metadata": {
        "id": "YEE1lfJy08to",
        "colab_type": "text"
      },
      "source": [
        "I. Mô tả bài toán:\n",
        "- Input: Ảnh chụp có mặt người\n",
        "- Output: Giới tính của người đó (nam hoặc nữ)  \n",
        "\n",
        "II. Mô tả bộ dữ liệu:\n",
        "- Cách thức xây dựng bộ dữ liệu: crawl từ Google Image, tham khảo thêm dataset từ Kaggle, open data của AWS,...\n",
        "- Số lượng: khoảng 100000 ảnh\n",
        "- Các thao tác tiền xử lý dữ liệu: crop, resize, data augmentation,...\n",
        "- Phân chia: khoảng 70% train + 15% dev + 15% test\n",
        "\n",
        "III. Mô tả thuật toán máy học\n",
        "- Sử dụng CNN\n",
        "\n",
        "IV. "
      ]
    },
    {
      "cell_type": "code",
      "metadata": {
        "id": "S_DfFbl208tr",
        "colab_type": "code",
        "colab": {}
      },
      "source": [
        ""
      ],
      "execution_count": 0,
      "outputs": []
    }
  ]
}