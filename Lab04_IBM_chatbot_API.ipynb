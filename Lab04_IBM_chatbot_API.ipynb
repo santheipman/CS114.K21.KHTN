{
  "nbformat": 4,
  "nbformat_minor": 0,
  "metadata": {
    "colab": {
      "name": "Lab04_IBM_chatbot_API.ipynb",
      "provenance": [],
      "collapsed_sections": [],
      "authorship_tag": "ABX9TyPn90C3BPjozsKjUnpzkFVS",
      "include_colab_link": true
    },
    "kernelspec": {
      "name": "python3",
      "display_name": "Python 3"
    }
  },
  "cells": [
    {
      "cell_type": "markdown",
      "metadata": {
        "id": "view-in-github",
        "colab_type": "text"
      },
      "source": [
        "<a href=\"https://colab.research.google.com/github/santheipman/CS114.K21.KHTN/blob/master/Lab04_IBM_chatbot_API.ipynb\" target=\"_parent\"><img src=\"https://colab.research.google.com/assets/colab-badge.svg\" alt=\"Open In Colab\"/></a>"
      ]
    },
    {
      "cell_type": "code",
      "metadata": {
        "id": "ZugRCobCW_c3",
        "colab_type": "code",
        "outputId": "8b21ad99-b4db-4b2c-d832-1b306d94321a",
        "colab": {
          "base_uri": "https://localhost:8080/",
          "height": 1000
        }
      },
      "source": [
        "# install IBM Cloud CLI\n",
        "!curl -sL https://ibm.biz/idt-installer | bash"
      ],
      "execution_count": 0,
      "outputs": [
        {
          "output_type": "stream",
          "text": [
            "\u001b[0;36m[main]\u001b[0m --==[ \u001b[1;32mIBM Cloud Developer Tools for Linux/MacOS - Installer, v1.2.3\u001b[0m ]==--\n",
            "\u001b[0;36m[install]\u001b[0m Starting Update...\n",
            "\u001b[0;36m[install_deps_with_apt_get]\u001b[0m Checking for and updating 'apt-get' support on Linux\n",
            "Hit:1 https://cloud.r-project.org/bin/linux/ubuntu bionic-cran35/ InRelease\n",
            "Ign:2 https://developer.download.nvidia.com/compute/cuda/repos/ubuntu1804/x86_64  InRelease\n",
            "Hit:3 http://archive.ubuntu.com/ubuntu bionic InRelease\n",
            "Hit:4 http://security.ubuntu.com/ubuntu bionic-security InRelease\n",
            "Get:5 http://ppa.launchpad.net/git-core/ppa/ubuntu bionic InRelease [20.7 kB]\n",
            "Ign:6 https://developer.download.nvidia.com/compute/machine-learning/repos/ubuntu1804/x86_64  InRelease\n",
            "Hit:7 https://developer.download.nvidia.com/compute/cuda/repos/ubuntu1804/x86_64  Release\n",
            "Hit:8 https://developer.download.nvidia.com/compute/machine-learning/repos/ubuntu1804/x86_64  Release\n",
            "Hit:9 http://archive.ubuntu.com/ubuntu bionic-updates InRelease\n",
            "Hit:10 http://archive.ubuntu.com/ubuntu bionic-backports InRelease\n",
            "Hit:11 http://ppa.launchpad.net/graphics-drivers/ppa/ubuntu bionic InRelease\n",
            "Hit:12 http://ppa.launchpad.net/marutter/c2d4u3.5/ubuntu bionic InRelease\n",
            "Get:15 http://ppa.launchpad.net/git-core/ppa/ubuntu bionic/main amd64 Packages [3,176 B]\n",
            "Fetched 23.9 kB in 2s (11.9 kB/s)\n",
            "Reading package lists... Done\n",
            "Hit:1 https://cloud.r-project.org/bin/linux/ubuntu bionic-cran35/ InRelease\n",
            "Ign:2 https://developer.download.nvidia.com/compute/cuda/repos/ubuntu1804/x86_64  InRelease\n",
            "Hit:3 http://ppa.launchpad.net/git-core/ppa/ubuntu bionic InRelease\n",
            "Hit:4 http://security.ubuntu.com/ubuntu bionic-security InRelease\n",
            "Hit:5 http://archive.ubuntu.com/ubuntu bionic InRelease\n",
            "Ign:6 https://developer.download.nvidia.com/compute/machine-learning/repos/ubuntu1804/x86_64  InRelease\n",
            "Hit:7 https://developer.download.nvidia.com/compute/cuda/repos/ubuntu1804/x86_64  Release\n",
            "Hit:8 https://developer.download.nvidia.com/compute/machine-learning/repos/ubuntu1804/x86_64  Release\n",
            "Hit:9 http://archive.ubuntu.com/ubuntu bionic-updates InRelease\n",
            "Hit:10 http://ppa.launchpad.net/graphics-drivers/ppa/ubuntu bionic InRelease\n",
            "Hit:11 http://archive.ubuntu.com/ubuntu bionic-backports InRelease\n",
            "Hit:12 http://ppa.launchpad.net/marutter/c2d4u3.5/ubuntu bionic InRelease\n",
            "Reading package lists... Done\n",
            "\u001b[0;36m[install_deps_with_apt_get]\u001b[0m Installing/updating external dependency: curl\n",
            "\u001b[0;36m[install_deps_with_apt_get]\u001b[0m Installing/updating external dependency: git\n",
            "\u001b[0;36m[install_docker]\u001b[0m Installing/updating external dependency: docker\n",
            "# Executing docker install script, commit: 442e66405c304fa92af8aadaa1d9b31bf4b0ad94\n",
            "+ sh -c apt-get update -qq >/dev/null\n",
            "+ sh -c DEBIAN_FRONTEND=noninteractive apt-get install -y -qq apt-transport-https ca-certificates curl >/dev/null\n",
            "+ sh -c curl -fsSL \"https://download.docker.com/linux/ubuntu/gpg\" | apt-key add -qq - >/dev/null\n",
            "Warning: apt-key output should not be parsed (stdout is not a terminal)\n",
            "+ sh -c echo \"deb [arch=amd64] https://download.docker.com/linux/ubuntu bionic stable\" > /etc/apt/sources.list.d/docker.list\n",
            "+ sh -c apt-get update -qq >/dev/null\n",
            "+ [ -n  ]\n",
            "+ sh -c apt-get install -y -qq --no-install-recommends docker-ce >/dev/null\n",
            "If you would like to use Docker as a non-root user, you should now consider\n",
            "adding your user to the \"docker\" group with something like:\n",
            "\n",
            "  sudo usermod -aG docker your-user\n",
            "\n",
            "Remember that you will have to log out and back in for this to take effect!\n",
            "\n",
            "WARNING: Adding a user to the \"docker\" group will grant the ability to run\n",
            "         containers which can be used to obtain root privileges on the\n",
            "         docker host.\n",
            "         Refer to https://docs.docker.com/engine/security/security/#docker-daemon-attack-surface\n",
            "         for more information.\n",
            "\u001b[0;36m[install_docker]\u001b[0m If you want to run docker without sudo run: \"sudo groupadd docker && sudo usermod -aG docker $USER\"\n",
            "\u001b[0;36m[install_docker]\u001b[0m Please review any setup requirements for 'docker' from: https://docs.docker.com/engine/installation/\n",
            "Client: Docker Engine - Community\n",
            " Version:           19.03.8\n",
            " API version:       1.40\n",
            " Go version:        go1.12.17\n",
            " Git commit:        afacb8b7f0\n",
            " Built:             Wed Mar 11 01:25:46 2020\n",
            " OS/Arch:           linux/amd64\n",
            " Experimental:      false\n",
            "Cannot connect to the Docker daemon at unix:///var/run/docker.sock. Is the docker daemon running?\n",
            "\u001b[0;36m[install_deps_with_apt_get]\u001b[0m Installing/updating external dependency: kubectl\n",
            "  % Total    % Received % Xferd  Average Speed   Time    Time     Time  Current\n",
            "                                 Dload  Upload   Total   Spent    Left  Speed\n",
            "100   278  100   278    0     0    961      0 --:--:-- --:--:-- --:--:--   961\n",
            "######################################################################## 100.0%\n",
            "\u001b[0;36m[install_deps_with_apt_get]\u001b[0m Please review any setup requirements for 'kubectl' from: https://kubernetes.io/docs/tasks/tools/install-kubectl/\n",
            "\u001b[0;36m[install_deps_with_apt_get]\u001b[0m Installing/updating external dependency: helm\n",
            "Downloading https://get.helm.sh/helm-v2.16.5-linux-amd64.tar.gz\n",
            "Preparing to install helm and tiller into /usr/local/bin\n",
            "helm installed into /usr/local/bin/helm\n",
            "tiller installed into /usr/local/bin/tiller\n",
            "Run 'helm init' to configure helm.\n",
            "\u001b[0;36m[install_deps_with_apt_get]\u001b[0m Please review any setup requirements for 'helm' from: https://github.com/kubernetes/helm/blob/master/docs/install.md\n",
            "\u001b[0;36m[install_ibmcloud]\u001b[0m Installing IBM Cloud 'ibmcloud' CLI for platform 'Linux'...\n",
            "\u001b[0;36m[install_ibmcloud]\u001b[0m Downloading and installing IBM Cloud 'ibmcloud' CLI from: https://clis.cloud.ibm.com/install/linux\n",
            "Current platform is linux64. Downloading corresponding IBM Cloud CLI...\n",
            "  % Total    % Received % Xferd  Average Speed   Time    Time     Time  Current\n",
            "                                 Dload  Upload   Total   Spent    Left  Speed\n",
            "100   118    0   118    0     0   1255      0 --:--:-- --:--:-- --:--:--  1242\n",
            "100 15.2M  100 15.2M    0     0  9037k      0  0:00:01  0:00:01 --:--:-- 19.5M\n",
            "Download complete. Executing installer...\n",
            "  % Total    % Received % Xferd  Average Speed   Time    Time     Time  Current\n",
            "                                 Dload  Upload   Total   Spent    Left  Speed\n",
            "100    40    0    40    0     0    412      0 --:--:-- --:--:-- --:--:--   412\n",
            "Bluemix_CLI/\n",
            "Bluemix_CLI/bin/\n",
            "Bluemix_CLI/bin/ibmcloud\n",
            "Bluemix_CLI/bin/ibmcloud.sig\n",
            "Bluemix_CLI/bin/ibmcloud-analytics\n",
            "Bluemix_CLI/bin/ibmcloud-analytics.sig\n",
            "Bluemix_CLI/bin/NOTICE\n",
            "Bluemix_CLI/bin/LICENSE\n",
            "Bluemix_CLI/bin/CF_CLI_Notices.txt\n",
            "Bluemix_CLI/bin/CF_CLI_SLC_Notices.txt\n",
            "Bluemix_CLI/autocomplete/\n",
            "Bluemix_CLI/autocomplete/bash_autocomplete\n",
            "Bluemix_CLI/autocomplete/zsh_autocomplete\n",
            "Bluemix_CLI/install\n",
            "Bluemix_CLI/uninstall\n",
            "Bluemix_CLI/install_bluemix_cli\n",
            "Install complete.\n",
            "\u001b[0;36m[install_ibmcloud]\u001b[0m IBM Cloud 'ibmcloud' CLI install finished.\n",
            "\u001b[0;36m[install_ibmcloud]\u001b[0m Running 'ibmcloud --version'...\n",
            "ibmcloud version 1.0.0+908f90a-2020-03-30T06:37:22+00:00\n",
            "\u001b[0;36m[install_plugins]\u001b[0m Installing/updating IBM Cloud CLI plugins...\n",
            "\u001b[0;36m[install_plugins]\u001b[0m Checking status of plugin: cloud-functions\n",
            "\u001b[0;36m[install_plugins]\u001b[0m Installing plugin 'cloud-functions'\n",
            "Looking up '\u001b[36;1mcloud-functions\u001b[0m' from repository '\u001b[36;1mIBM Cloud\u001b[0m'...\n",
            "Plug-in '\u001b[36;1mcloud-functions/wsk/functions/fn\u001b[0m \u001b[36;1m1.0.39\u001b[0m' found in repository '\u001b[36;1mIBM Cloud\u001b[0m'\n",
            "Attempting to download the binary file...\n",
            " 13.10 MiB / 13.10 MiB  100.00% 0s\n",
            "13735265 bytes downloaded\n",
            "Installing binary...\n",
            "\u001b[32;1mOK\u001b[0m\n",
            "Plug-in '\u001b[36;1mcloud-functions 1.0.39\u001b[0m' was successfully installed into /root/.bluemix/plugins/cloud-functions. Use '\u001b[33;1mibmcloud plugin show cloud-functions\u001b[0m' to show its details.\n",
            "\u001b[0;36m[install_plugins]\u001b[0m Checking status of plugin: cloud-object-storage\n",
            "\u001b[0;36m[install_plugins]\u001b[0m Installing plugin 'cloud-object-storage'\n",
            "Looking up '\u001b[36;1mcloud-object-storage\u001b[0m' from repository '\u001b[36;1mIBM Cloud\u001b[0m'...\n",
            "Plug-in '\u001b[36;1mcloud-object-storage\u001b[0m \u001b[36;1m1.1.2\u001b[0m' found in repository '\u001b[36;1mIBM Cloud\u001b[0m'\n",
            "Attempting to download the binary file...\n",
            " 13.44 MiB / 13.44 MiB  100.00% 0s\n",
            "14094720 bytes downloaded\n",
            "Installing binary...\n",
            "\u001b[32;1mOK\u001b[0m\n",
            "Plug-in '\u001b[36;1mcloud-object-storage 1.1.2\u001b[0m' was successfully installed into /root/.bluemix/plugins/cloud-object-storage. Use '\u001b[33;1mibmcloud plugin show cloud-object-storage\u001b[0m' to show its details.\n",
            "\u001b[0;36m[install_plugins]\u001b[0m Checking status of plugin: container-registry\n",
            "\u001b[0;36m[install_plugins]\u001b[0m Installing plugin 'container-registry'\n",
            "Looking up '\u001b[36;1mcontainer-registry\u001b[0m' from repository '\u001b[36;1mIBM Cloud\u001b[0m'...\n",
            "Plug-in '\u001b[36;1mcontainer-registry\u001b[0m \u001b[36;1m0.1.454\u001b[0m' found in repository '\u001b[36;1mIBM Cloud\u001b[0m'\n",
            "Attempting to download the binary file...\n",
            " 26.61 MiB / 26.61 MiB  100.00% 1s\n",
            "27898432 bytes downloaded\n",
            "Installing binary...\n",
            "\u001b[32;1mOK\u001b[0m\n",
            "Plug-in '\u001b[36;1mcontainer-registry 0.1.454\u001b[0m' was successfully installed into /root/.bluemix/plugins/container-registry. Use '\u001b[33;1mibmcloud plugin show container-registry\u001b[0m' to show its details.\n",
            "\u001b[0;36m[install_plugins]\u001b[0m Checking status of plugin: container-service\n",
            "\u001b[0;36m[install_plugins]\u001b[0m Installing plugin 'container-service'\n",
            "Looking up '\u001b[36;1mcontainer-service\u001b[0m' from repository '\u001b[36;1mIBM Cloud\u001b[0m'...\n",
            "Plug-in '\u001b[36;1mcontainer-service/kubernetes-service\u001b[0m \u001b[36;1m1.0.15\u001b[0m' found in repository '\u001b[36;1mIBM Cloud\u001b[0m'\n",
            "Attempting to download the binary file...\n",
            " 21.29 MiB / 21.29 MiB  100.00% 1s\n",
            "22327296 bytes downloaded\n",
            "Installing binary...\n",
            "\u001b[32;1mOK\u001b[0m\n",
            "Plug-in '\u001b[36;1mcontainer-service 1.0.15\u001b[0m' was successfully installed into /root/.bluemix/plugins/container-service. Use '\u001b[33;1mibmcloud plugin show container-service\u001b[0m' to show its details.\n",
            "\u001b[0;36m[install_plugins]\u001b[0m Running 'ibmcloud plugin list'...\n",
            "Listing installed plug-ins...\n",
            "\n",
            "\u001b[1mPlugin Name\u001b[0m                            \u001b[1mVersion\u001b[0m   \u001b[1mStatus\u001b[0m   \n",
            "\u001b[36;1mcloud-object-storage\u001b[0m                   1.1.2        \n",
            "\u001b[36;1mcontainer-registry\u001b[0m                     0.1.454      \n",
            "\u001b[36;1mcontainer-service/kubernetes-service\u001b[0m   1.0.15       \n",
            "\u001b[36;1mcloud-functions/wsk/functions/fn\u001b[0m       1.0.39       \n",
            "\n",
            "\u001b[0;36m[install_plugins]\u001b[0m Finished installing/updating plugins\n",
            "\u001b[0;36m[env_setup]\u001b[0m \u001b[1;33mWARN\u001b[0m: Please restart your shell to enable 'ic' alias for ibmcloud!\n",
            "\u001b[0;36m[install]\u001b[0m Install finished.\n",
            "\u001b[0;36m[main]\u001b[0m --==[ \u001b[1;32mTotal time: 68 seconds\u001b[0m ]==--\n"
          ],
          "name": "stdout"
        }
      ]
    },
    {
      "cell_type": "code",
      "metadata": {
        "id": "bnUZRasgXJ7d",
        "colab_type": "code",
        "outputId": "36b8a69c-77d5-4ac8-c3bd-e9a2f3320cb1",
        "colab": {
          "base_uri": "https://localhost:8080/",
          "height": 1000
        }
      },
      "source": [
        "# verify that the CLI and Developer Tools were installed successfully\n",
        "!ibmcloud dev help"
      ],
      "execution_count": 7,
      "outputs": [
        {
          "output_type": "stream",
          "text": [
            "NAME:\n",
            "   ibmcloud dev - Create, develop, deploy, and monitor applications\n",
            "\n",
            "USAGE:\n",
            "   ibmcloud dev command [arguments...] [command options]\n",
            "\n",
            "VERSION:\n",
            "   2.4.7\n",
            "\n",
            "COMMANDS:\n",
            "\n",
            "App Commands\n",
            "   build             Build the application in a local container\n",
            "   code              Download the code from an application\n",
            "   console           Opens the IBM Cloud console for an application\n",
            "   create            Creates a new application and gives you the option to add services\n",
            "   debug             Debug your application in a local container\n",
            "   delete            Deletes an application from your resource group\n",
            "   deploy            Deploy an application to IBM Cloud\n",
            "   diag              This command displays version information about installed dependencies\n",
            "   edit              Add or remove services for your application\n",
            "   enable            Add IBM Cloud files to an existing application (Beta)\n",
            "   get-credentials   Gets credentials required by the application to enable use of connected services\n",
            "   list              List all IBM Cloud applications in a resource group\n",
            "   run               Run your application in a local container\n",
            "   shell             Open a shell into a local container\n",
            "   status            Check the status of the containers used by the CLI\n",
            "   stop              Stop a container\n",
            "   test              Test your application in a local container\n",
            "   view              View the URL of your application\n",
            "   \n",
            "\n",
            "DevOps Commands\n",
            "   pipeline-get       Get details for a pipeline (Beta)\n",
            "   pipeline-log       Get logs for a pipeline, stage, job, or job execution\n",
            "   pipeline-open      View a pipeline in the browser\n",
            "   pipeline-run       Run a pipeline (Beta)\n",
            "   toolchain-delete   Delete a toolchain\n",
            "   toolchain-get      Get details for a toolchain in a resource group (Beta)\n",
            "   toolchain-open     View a toolchain in the browser\n",
            "   toolchains         List all toolchains in a resource group (Beta)\n",
            "   \n",
            "\n",
            "Other Commands\n",
            "   help   Show help\n",
            "   \n",
            "\n",
            "Enter 'ibmcloud dev help [command]' for more information about a command.\n",
            "\n",
            "GLOBAL OPTIONS:\n",
            "   --version, -v                  Print the version\n",
            "   --help, -h                     Show help\n",
            "\n",
            "Please provide your experience and feedback in the \u001b[36;1m#developer-tools\u001b[0m Slack channel.\n",
            "Apply for access or login here: \u001b[36;1mhttp://ibm.biz/cli-feedback\u001b[0m\n",
            "\n"
          ],
          "name": "stdout"
        }
      ]
    },
    {
      "cell_type": "code",
      "metadata": {
        "id": "9SMUdOXqXjQ4",
        "colab_type": "code",
        "outputId": "5bdc0dd2-2dc2-4712-f502-13eeae6db129",
        "colab": {
          "base_uri": "https://localhost:8080/",
          "height": 697
        }
      },
      "source": [
        "# log in to IBM Cloud with IBMid\n",
        "!ibmcloud login"
      ],
      "execution_count": 0,
      "outputs": [
        {
          "output_type": "stream",
          "text": [
            "API endpoint: \u001b[36;1mhttps://cloud.ibm.com\u001b[0m\n",
            "\n",
            "Email\u001b[36;1m>\u001b[0m vqusan@gmail.com\n",
            "\n",
            "Password\u001b[36;1m>\u001b[0m \n",
            "Authenticating...\n",
            "\u001b[32;1mOK\u001b[0m\n",
            "\n",
            "Targeted account \u001b[36;1mSan Vu's Account (101f30bd30ed4289820723e4fa9e2c6e)\u001b[0m\n",
            "\n",
            "\n",
            "Select a region (or press enter to skip):\n",
            "1. au-syd\n",
            "2. in-che\n",
            "3. jp-tok\n",
            "4. kr-seo\n",
            "5. eu-de\n",
            "6. eu-gb\n",
            "7. us-south\n",
            "8. us-east\n",
            "Enter a number\u001b[36;1m>\u001b[0m \n",
            "\n",
            "\u001b[1m\u001b[0m                   \u001b[1m\u001b[0m   \n",
            "\u001b[36;1mAPI endpoint:\u001b[0m      \u001b[36;1mhttps://cloud.ibm.com\u001b[0m   \n",
            "\u001b[36;1mRegion:\u001b[0m            \u001b[36;1m\u001b[0m   \n",
            "\u001b[36;1mUser:\u001b[0m              \u001b[36;1mvqusan@gmail.com\u001b[0m   \n",
            "\u001b[36;1mAccount:\u001b[0m           \u001b[36;1mSan Vu's Account (101f30bd30ed4289820723e4fa9e2c6e)\u001b[0m   \n",
            "\u001b[36;1mResource group:\u001b[0m    No resource group targeted, use '\u001b[33;1mibmcloud target -g RESOURCE_GROUP\u001b[0m'   \n",
            "\u001b[36;1mCF API endpoint:\u001b[0m      \n",
            "\u001b[36;1mOrg:\u001b[0m               \u001b[36;1m\u001b[0m   \n",
            "\u001b[36;1mSpace:\u001b[0m             \u001b[36;1m\u001b[0m   \n",
            "\n",
            "We'd like to collect usage statistics to help improve the IBM Cloud CLI.\n",
            "This data will never be shared outside IBM.\n",
            "To learn more, see the IBM Privacy Policy: https://www.ibm.com/privacy\n",
            "You can enable or disable usage data collection by running 'ibmcloud config --usage-stats-collect [true | false]'\n",
            "\n",
            "Do you want to send usage statistics to IBM? [y/n]\u001b[36;1m>\u001b[0m n\n"
          ],
          "name": "stdout"
        }
      ]
    },
    {
      "cell_type": "code",
      "metadata": {
        "id": "k8J0VR4XX9xf",
        "colab_type": "code",
        "outputId": "c589e2c6-1fd9-4733-84c2-3d9e37d05a81",
        "colab": {
          "base_uri": "https://localhost:8080/",
          "height": 434
        }
      },
      "source": [
        "# specify a Cloud Foundry org and space\n",
        "!ibmcloud target --cf"
      ],
      "execution_count": 0,
      "outputs": [
        {
          "output_type": "stream",
          "text": [
            "\n",
            "Select a Cloud Foundry instance:\n",
            "1. public CF us-south (https://api.us-south.cf.cloud.ibm.com)\n",
            "2. public CF eu-de (https://api.eu-de.cf.cloud.ibm.com)\n",
            "3. public CF eu-gb (https://api.eu-gb.cf.cloud.ibm.com)\n",
            "4. public CF au-syd (https://api.au-syd.cf.cloud.ibm.com)\n",
            "5. public CF us-east (https://api.us-east.cf.cloud.ibm.com)\n",
            "Enter a number\u001b[36;1m>\u001b[0m 1\n",
            "Targeted Cloud Foundry (\u001b[36;1mhttps://api.us-south.cf.cloud.ibm.com\u001b[0m)\n",
            "\n",
            "Targeted org \u001b[36;1mvqusan@gmail.com\u001b[0m\n",
            "\n",
            "Targeted space \u001b[36;1mdev\u001b[0m\n",
            "\n",
            "\n",
            "\u001b[1m\u001b[0m                   \u001b[1m\u001b[0m   \n",
            "\u001b[36;1mAPI endpoint:\u001b[0m      \u001b[36;1mhttps://cloud.ibm.com\u001b[0m   \n",
            "\u001b[36;1mRegion:\u001b[0m            \u001b[36;1m\u001b[0m   \n",
            "\u001b[36;1mUser:\u001b[0m              \u001b[36;1mvqusan@gmail.com\u001b[0m   \n",
            "\u001b[36;1mAccount:\u001b[0m           \u001b[36;1mSan Vu's Account (101f30bd30ed4289820723e4fa9e2c6e)\u001b[0m   \n",
            "\u001b[36;1mResource group:\u001b[0m    No resource group targeted, use '\u001b[33;1mibmcloud target -g RESOURCE_GROUP\u001b[0m'   \n",
            "\u001b[36;1mCF API endpoint:\u001b[0m   \u001b[36;1mhttps://api.us-south.cf.cloud.ibm.com\u001b[0m (API version: \u001b[36;1m2.146.0\u001b[0m)   \n",
            "\u001b[36;1mOrg:\u001b[0m               \u001b[36;1mvqusan@gmail.com\u001b[0m   \n",
            "\u001b[36;1mSpace:\u001b[0m             \u001b[36;1mdev\u001b[0m   \n"
          ],
          "name": "stdout"
        }
      ]
    },
    {
      "cell_type": "code",
      "metadata": {
        "id": "I7PqSXTzIQcP",
        "colab_type": "code",
        "colab": {
          "base_uri": "https://localhost:8080/",
          "height": 54
        },
        "outputId": "dd389670-f23b-4fd0-9972-35538200f215"
      },
      "source": [
        "from google.colab import drive\n",
        "\n",
        "drive.mount('/content/gdrive')"
      ],
      "execution_count": 25,
      "outputs": [
        {
          "output_type": "stream",
          "text": [
            "Drive already mounted at /content/gdrive; to attempt to forcibly remount, call drive.mount(\"/content/gdrive\", force_remount=True).\n"
          ],
          "name": "stdout"
        }
      ]
    },
    {
      "cell_type": "code",
      "metadata": {
        "id": "8ZZLO4aMJl_I",
        "colab_type": "code",
        "colab": {
          "base_uri": "https://localhost:8080/",
          "height": 34
        },
        "outputId": "f4ea62f0-5da0-468e-ea12-2531b8a2f5c8"
      },
      "source": [
        "%cd 'gdrive/My Drive/Colab Notebooks/IBM_API'"
      ],
      "execution_count": 29,
      "outputs": [
        {
          "output_type": "stream",
          "text": [
            "/content/gdrive/My Drive/Colab Notebooks/IBM_API\n"
          ],
          "name": "stdout"
        }
      ]
    },
    {
      "cell_type": "code",
      "metadata": {
        "id": "rcmnbpNGqcbb",
        "colab_type": "code",
        "colab": {
          "base_uri": "https://localhost:8080/",
          "height": 156
        },
        "outputId": "4c4959af-3e7d-4c7c-a690-81491ba8f3b2"
      },
      "source": [
        "!git clone 'https://github.com/Call-for-Code/Solution-Starter-Kit-Communication-2020.git'"
      ],
      "execution_count": 30,
      "outputs": [
        {
          "output_type": "stream",
          "text": [
            "Cloning into 'Solution-Starter-Kit-Communication-2020'...\n",
            "remote: Enumerating objects: 66, done.\u001b[K\n",
            "remote: Counting objects: 100% (66/66), done.\u001b[K\n",
            "remote: Compressing objects: 100% (57/57), done.\u001b[K\n",
            "remote: Total 703 (delta 29), reused 29 (delta 9), pack-reused 637\u001b[K\n",
            "Receiving objects: 100% (703/703), 121.57 MiB | 18.54 MiB/s, done.\n",
            "Resolving deltas: 100% (292/292), done.\n",
            "Checking out files: 100% (111/111), done.\n"
          ],
          "name": "stdout"
        }
      ]
    },
    {
      "cell_type": "code",
      "metadata": {
        "id": "ZXTwWmZpFjMv",
        "colab_type": "code",
        "colab": {
          "base_uri": "https://localhost:8080/",
          "height": 54
        },
        "outputId": "f8e52208-4ac6-44a5-fc4e-07a72a3d46ed"
      },
      "source": [
        "%cd 'Solution-Starter-Kit-Communication-2020/starter-kit/covid-simple'"
      ],
      "execution_count": 31,
      "outputs": [
        {
          "output_type": "stream",
          "text": [
            "/content/gdrive/My Drive/Colab Notebooks/IBM_API/Solution-Starter-Kit-Communication-2020/starter-kit/covid-simple\n"
          ],
          "name": "stdout"
        }
      ]
    },
    {
      "cell_type": "code",
      "metadata": {
        "id": "tInrmcv2KJT7",
        "colab_type": "code",
        "colab": {}
      },
      "source": [
        "!cp .env.example .env"
      ],
      "execution_count": 0,
      "outputs": []
    }
  ]
}